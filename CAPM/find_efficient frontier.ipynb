{
 "cells": [
  {
   "cell_type": "code",
   "execution_count": 11,
   "metadata": {},
   "outputs": [],
   "source": [
    "import matplotlib.pyplot as plt\n",
    "import numpy as np\n",
    "import seaborn as sns\n",
    "import scipy.optimize as sci\n",
    "import pandas as pd"
   ]
  },
  {
   "cell_type": "code",
   "execution_count": 184,
   "metadata": {},
   "outputs": [],
   "source": [
    "sns.set_style('darkgrid')"
   ]
  },
  {
   "cell_type": "code",
   "execution_count": 50,
   "metadata": {},
   "outputs": [],
   "source": [
    "# function to calculate the portfolio return\n",
    "def portfolio_returns(weights, mu):\n",
    "    return weights.T @ mu"
   ]
  },
  {
   "cell_type": "code",
   "execution_count": 13,
   "metadata": {},
   "outputs": [],
   "source": [
    "# Function for computing standard deviation of portfolio returns\n",
    "def portfolio_sd(weights, sigma):\n",
    "    return np.sqrt(np.transpose(weights) @ sigma @ weights)"
   ]
  },
  {
   "cell_type": "code",
   "execution_count": 70,
   "metadata": {},
   "outputs": [],
   "source": []
  },
  {
   "cell_type": "code",
   "execution_count": 15,
   "metadata": {},
   "outputs": [],
   "source": [
    "# Return an array of equal weights that sum to one of dimension length\n",
    "def get_equal_weights(length):\n",
    "    return np.array([1 / length] * length)"
   ]
  },
  {
   "cell_type": "code",
   "execution_count": 38,
   "metadata": {},
   "outputs": [],
   "source": [
    "# load data from FRED\n",
    "mu = np.array([0.02, 0.06, 0.08, 0.1]) # expected return\n",
    "sigma = np.array([[0.01, 0.03, 0.2, 0.22],\n",
    "         [0.03, 0.04, 0.4, 0.5],\n",
    "         [0.02, 0.4, 0.7, 0.6],\n",
    "         [0.22, 0.5, 0.6, 0.9]])"
   ]
  },
  {
   "cell_type": "code",
   "execution_count": 74,
   "metadata": {},
   "outputs": [],
   "source": [
    "mu = np.array([0.02, 0.1]) # expected return\n",
    "sigma = np.array([[0.4, 0.22],\n",
    "                  [0.22, 0.85]])"
   ]
  },
  {
   "cell_type": "code",
   "execution_count": 151,
   "metadata": {},
   "outputs": [],
   "source": [
    "# find for a given level of return the weights that minimize the std of portfolio\n",
    "#  and store the std \n",
    "\n",
    "# as start value for the optimization\n",
    "equal_weights = get_equal_weights(len(mu))\n",
    "\n",
    "# each weight needs to be between 0 and 1\n",
    "bounds = tuple((0, 1) for w in equal_weights)\n",
    "\n",
    "# two constraints\n",
    "constraints = (\n",
    "  {'type': 'eq', 'fun': lambda x:  target - portfolio_returns(x, mu) }, # portfolio return should equal return_target\n",
    "  {'type': 'eq', 'fun': lambda x: np.sum(x) - 1} # weights must sum to one\n",
    ")\n",
    "\n",
    "# Initialize an array of target returns\n",
    "return_target = np.linspace(\n",
    "  start = 0.00, \n",
    "  stop = 0.1,\n",
    "  num = 100\n",
    ")\n",
    "# empty list to store the results\n",
    "std = []\n",
    "# For loop to minimize objective function\n",
    "min_port_risk = np.inf\n",
    "min_ret = np.inf\n",
    "for target in return_target:\n",
    "  opt_result = sci.minimize(\n",
    "    # Objective function\n",
    "    fun = portfolio_sd, \n",
    "    # start with equal weights \n",
    "    x0 = equal_weights, \n",
    "    args = sigma,\n",
    "    method = 'SLSQP',\n",
    "    bounds = bounds, \n",
    "    constraints = constraints\n",
    "    )\n",
    "  # Extract the objective value and append it to the output container\n",
    "  if (opt_result['x'][0]>0) and (opt_result['x'][1]<1):\n",
    "    std.append(opt_result['fun'])\n",
    "    if opt_result['fun'] < min_port_risk: \n",
    "      min_port_risk = opt_result['fun']\n",
    "      min_port_ret = target\n",
    "  else: \n",
    "    std.append(std[-1])\n"
   ]
  },
  {
   "cell_type": "code",
   "execution_count": 134,
   "metadata": {},
   "outputs": [
    {
     "data": {
      "text/plain": [
       "(0.6000172173820262, 0.03737373737373737)"
      ]
     },
     "execution_count": 134,
     "metadata": {},
     "output_type": "execute_result"
    }
   ],
   "source": [
    "min_port_risk, min_port_ret"
   ]
  },
  {
   "cell_type": "code",
   "execution_count": 168,
   "metadata": {},
   "outputs": [],
   "source": [
    "# find efficient frontier\n",
    "eff_front_x = []\n",
    "eff_front_y = []\n",
    "for i in range(len(std)):\n",
    "    if (std[i] > min_port_risk) and (return_target[i] > min_port_ret):\n",
    "        eff_front_x.append(std[i])\n",
    "        eff_front_y.append(return_target[i])\n"
   ]
  },
  {
   "cell_type": "code",
   "execution_count": 153,
   "metadata": {},
   "outputs": [],
   "source": [
    "# delete first 10 entries as the portfolio have identical risk\n",
    "std = np.array(std)\n",
    "std = std[20:]\n",
    "return_target = np.array(return_target)\n",
    "return_target= return_target[20:]"
   ]
  },
  {
   "cell_type": "code",
   "execution_count": 154,
   "metadata": {},
   "outputs": [
    {
     "data": {
      "text/plain": [
       "(79, 0.10846522894676348)"
      ]
     },
     "execution_count": 154,
     "metadata": {},
     "output_type": "execute_result"
    }
   ],
   "source": [
    "# find max Sharpe ratio\n",
    "max_ratio = 0\n",
    "for i in range(len(std)):\n",
    "    if return_target[i]/std[i] > max_ratio:\n",
    "        max_ratio = return_target[i] /std[i]\n",
    "        idx_max = i\n",
    "idx_max, max_ratio"
   ]
  },
  {
   "cell_type": "code",
   "execution_count": 189,
   "metadata": {},
   "outputs": [
    {
     "data": {
      "image/png": "[encoded data removed]",
      "text/plain": [
       "<Figure size 720x576 with 1 Axes>"
      ]
     },
     "metadata": {},
     "output_type": "display_data"
    }
   ],
   "source": [
    "\n",
    "plt.figure(figsize=(10,8))\n",
    "plt.plot(std,return_target, color = 'black', label='portfolio')\n",
    "plt.plot(eff_front_x,eff_front_y, '--', color = 'red', label='efficient frontier')\n",
    "#plt.plot(std, utility_curve, color = 'red', label='max. utility')\n",
    "#plt.plot(std, utility_curve_second, color = 'red', alpha=0.2, linestyle='dashed')\n",
    "#plt.plot(std, utility_curve_third, color = 'red', alpha=0.2, linestyle='dashed')\n",
    "#plt.hlines(y_axis, 0, 1, colors='black', linewidth = 0.8, linestyles='dashed', label='optimal return')\n",
    "#plt.vlines(1, 0, y_axis, colors='black', linewidth = 0.8, linestyles='dashed')\n",
    "#plt.xticks([])\n",
    "plt.xticks(color='w')\n",
    "plt.yticks(color='w')\n",
    "#plt.yticks([])\n",
    "#plt.scatter(0, 3, color='red', zorder=5)\n",
    "plt.text(min_port_risk-0.07, min_port_ret, 'min. portfolio', color='red')\n",
    "plt.plot(min_port_risk, min_port_ret, 's', color='red')\n",
    "plt.text(std[idx_max]-0.1, return_target[idx_max], 'max. Sharpe ratio')\n",
    "plt.plot(std[idx_max], return_target[idx_max], 's', color = 'red')\n",
    "#plt.text(-0.15, y_axis, r'$ \\ r_{optimum}$', color='black')\n",
    "#plt.text(1, 1.9, r'$ \\sigma_{optimum}$', color='black')\n",
    "# market portfolio\n",
    "#plt.hlines(y_axis + 0.77, 0, 1.5, colors='black', linewidth = 0.8, linestyles='dashed', label='market port. return')\n",
    "#plt.vlines(1.5, 0, y_axis +0.77, colors='black', linewidth = 0.8, linestyles='dashed')\n",
    "#plt.text(-0.2, y_axis +0.77, r'$ \\ r_{market port.}$', color='black')\n",
    "#plt.text(1.5, 1.9, r'$ \\sigma_{market port.}$', color='black')\n",
    "plt.xlim(0.4, 1)\n",
    "plt.ylim(0, 0.15)\n",
    "plt.xlabel('Risk', loc='right',fontsize=16)\n",
    "plt.ylabel('Return', loc='top', fontsize=16)\n",
    "plt.title('Efficient Frontier', fontsize=20)\n",
    "plt.legend(fontsize=16)\n",
    "plt.show()"
   ]
  }
 ],
 "metadata": {
  "kernelspec": {
   "display_name": "thesis",
   "language": "python",
   "name": "thesis"
  },
  "language_info": {
   "codemirror_mode": {
    "name": "ipython",
    "version": 3
   },
   "file_extension": ".py",
   "mimetype": "text/x-python",
   "name": "python",
   "nbconvert_exporter": "python",
   "pygments_lexer": "ipython3",
   "version": "3.8.12"
  }
 },
 "nbformat": 4,
 "nbformat_minor": 4
}
